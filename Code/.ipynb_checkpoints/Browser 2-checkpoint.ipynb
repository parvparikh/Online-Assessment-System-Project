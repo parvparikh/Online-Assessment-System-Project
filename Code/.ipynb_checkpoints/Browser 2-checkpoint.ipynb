{
 "cells": [
  {
   "cell_type": "code",
   "execution_count": 1,
   "metadata": {},
   "outputs": [
    {
     "data": {
      "text/plain": [
       "0"
      ]
     },
     "execution_count": 1,
     "metadata": {},
     "output_type": "execute_result"
    }
   ],
   "source": [
    "from PyQt5.QtWebEngineWidgets import *\n",
    "from PyQt5.QtCore import *\n",
    "from PyQt5.QtWidgets import *\n",
    "from PyQt5.QtGui import *\n",
    "from PyQt5.QtPrintSupport import *\n",
    "import os \n",
    "import sys \n",
    "from PyQt5.QtCore import QEventLoop\n",
    "from PyQt5.QtWebEngineWidgets import QWebEngineView\n",
    "from PyQt5.QtWidgets import QApplication\n",
    "\n",
    "\n",
    "class MainWindow(QMainWindow): \n",
    "\n",
    "    def __init__(self, *args, **kwargs): \n",
    "        super(MainWindow, self).__init__(*args, **kwargs) \n",
    "        self.browser = QWebEngineView() \n",
    "        self.browser.setUrl(QUrl(\"http://127.0.0.1:5000/\")) \n",
    "        self.browser.urlChanged.connect(self.update_urlbar) \n",
    "        self.browser.loadFinished.connect(self.update_title) \n",
    "        self.setCentralWidget(self.browser) \n",
    "        self.status = QStatusBar() \n",
    "        self.setStatusBar(self.status) \n",
    "        navtb = QToolBar(\"Navigation\") \n",
    "        self.addToolBar(navtb) \n",
    "      \n",
    "\n",
    "\n",
    "        home_btn = QAction(\"Home\", self) \n",
    "        home_btn.setStatusTip(\"Go home\") \n",
    "        home_btn.triggered.connect(self.navigate_home) \n",
    "        navtb.addAction(home_btn) \n",
    "\n",
    "        navtb.addSeparator()\n",
    "        self.urlbar = QLineEdit() \n",
    "\n",
    " \n",
    "        self.urlbar.returnPressed.connect(self.navigate_to_url) \n",
    "\n",
    " \n",
    "        navtb.addWidget(self.urlbar) \n",
    "\n",
    "        stop_btn = QAction(\"Stop\", self) \n",
    "        stop_btn.setStatusTip(\"Stop loading current page\") \n",
    "\n",
    "        stop_btn.triggered.connect(self.browser.stop) \n",
    "        navtb.addAction(stop_btn) \n",
    "\n",
    "        self.show() \n",
    "    def update_title(self): \n",
    "        title = self.browser.page().title() \n",
    "        self.setWindowTitle(\"% s - My Browser\" % title) \n",
    "    def navigate_home(self): \n",
    "\n",
    " \n",
    "        self.browser.setUrl(QUrl(\"http://127.0.0.1:5000/\")) \n",
    "\n",
    "    def navigate_to_url(self): \n",
    "\n",
    "        q = QUrl(self.urlbar.text()) \n",
    "\n",
    "        if q.scheme() == \"\": \n",
    "            \n",
    "            q.setScheme(\"http\") \n",
    "        self.browser.setUrl(q) \n",
    "\n",
    " \n",
    "    def update_urlbar(self, q): \n",
    "\n",
    " \n",
    "        self.urlbar.setText(q.toString()) \n",
    "\n",
    "        self.urlbar.setCursorPosition(0) \n",
    "\n",
    "app = QApplication(sys.argv) \n",
    "\n",
    " \n",
    "app.setApplicationName(\"My Browser\") \n",
    "\n",
    "window = MainWindow() \n",
    "\n",
    "\n",
    "app.exec_() "
   ]
  },
  {
   "cell_type": "code",
   "execution_count": null,
   "metadata": {},
   "outputs": [],
   "source": []
  }
 ],
 "metadata": {
  "kernelspec": {
   "display_name": "Python 3",
   "language": "python",
   "name": "python3"
  },
  "language_info": {
   "codemirror_mode": {
    "name": "ipython",
    "version": 3
   },
   "file_extension": ".py",
   "mimetype": "text/x-python",
   "name": "python",
   "nbconvert_exporter": "python",
   "pygments_lexer": "ipython3",
   "version": "3.7.3"
  }
 },
 "nbformat": 4,
 "nbformat_minor": 2
}
