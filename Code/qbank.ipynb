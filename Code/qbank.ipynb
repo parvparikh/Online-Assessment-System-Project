{
 "cells": [
  {
   "cell_type": "code",
   "execution_count": null,
   "metadata": {},
   "outputs": [
    {
     "name": "stdout",
     "output_type": "stream",
     "text": [
      " * Serving Flask app \"__main__\" (lazy loading)\n",
      " * Environment: production\n",
      "   WARNING: Do not use the development server in a production environment.\n",
      "   Use a production WSGI server instead.\n",
      " * Debug mode: off\n"
     ]
    },
    {
     "name": "stderr",
     "output_type": "stream",
     "text": [
      " * Running on http://127.0.0.1:5000/ (Press CTRL+C to quit)\n",
      "[2021-02-18 21:50:50,310] ERROR in app: Exception on / [GET]\n",
      "Traceback (most recent call last):\n",
      "  File \"C:\\Users\\Asus\\Anaconda3\\lib\\site-packages\\flask\\app.py\", line 1974, in make_response\n",
      "    rv = self.response_class.force_type(rv, request.environ)\n",
      "  File \"C:\\Users\\Asus\\Anaconda3\\lib\\site-packages\\werkzeug\\wrappers.py\", line 921, in force_type\n",
      "    response = BaseResponse(*_run_wsgi_app(response, environ))\n",
      "  File \"C:\\Users\\Asus\\Anaconda3\\lib\\site-packages\\werkzeug\\test.py\", line 923, in run_wsgi_app\n",
      "    app_rv = app(environ, start_response)\n",
      "TypeError: 'int' object is not callable\n",
      "\n",
      "During handling of the above exception, another exception occurred:\n",
      "\n",
      "Traceback (most recent call last):\n",
      "  File \"C:\\Users\\Asus\\Anaconda3\\lib\\site-packages\\flask\\app.py\", line 2292, in wsgi_app\n",
      "    response = self.full_dispatch_request()\n",
      "  File \"C:\\Users\\Asus\\Anaconda3\\lib\\site-packages\\flask\\app.py\", line 1816, in full_dispatch_request\n",
      "    return self.finalize_request(rv)\n",
      "  File \"C:\\Users\\Asus\\Anaconda3\\lib\\site-packages\\flask\\app.py\", line 1831, in finalize_request\n",
      "    response = self.make_response(rv)\n",
      "  File \"C:\\Users\\Asus\\Anaconda3\\lib\\site-packages\\flask\\app.py\", line 1982, in make_response\n",
      "    reraise(TypeError, new_error, sys.exc_info()[2])\n",
      "  File \"C:\\Users\\Asus\\Anaconda3\\lib\\site-packages\\flask\\_compat.py\", line 34, in reraise\n",
      "    raise value.with_traceback(tb)\n",
      "  File \"C:\\Users\\Asus\\Anaconda3\\lib\\site-packages\\flask\\app.py\", line 1974, in make_response\n",
      "    rv = self.response_class.force_type(rv, request.environ)\n",
      "  File \"C:\\Users\\Asus\\Anaconda3\\lib\\site-packages\\werkzeug\\wrappers.py\", line 921, in force_type\n",
      "    response = BaseResponse(*_run_wsgi_app(response, environ))\n",
      "  File \"C:\\Users\\Asus\\Anaconda3\\lib\\site-packages\\werkzeug\\test.py\", line 923, in run_wsgi_app\n",
      "    app_rv = app(environ, start_response)\n",
      "TypeError: 'int' object is not callable\n",
      "The view function did not return a valid response. The return type must be a string, tuple, Response instance, or WSGI callable, but it was a int.\n",
      "127.0.0.1 - - [18/Feb/2021 21:50:50] \"\u001b[1m\u001b[35mGET / HTTP/1.1\u001b[0m\" 500 -\n",
      "127.0.0.1 - - [18/Feb/2021 21:50:56] \"\u001b[37mGET /qbank HTTP/1.1\u001b[0m\" 200 -\n",
      "127.0.0.1 - - [18/Feb/2021 21:50:57] \"\u001b[37mPOST /qbank HTTP/1.1\u001b[0m\" 200 -\n",
      "127.0.0.1 - - [18/Feb/2021 22:01:41] \"\u001b[37mPOST /qbank HTTP/1.1\u001b[0m\" 200 -\n"
     ]
    },
    {
     "name": "stdout",
     "output_type": "stream",
     "text": [
      "\n"
     ]
    },
    {
     "name": "stderr",
     "output_type": "stream",
     "text": [
      "127.0.0.1 - - [18/Feb/2021 22:01:44] \"\u001b[37mPOST /qbank HTTP/1.1\u001b[0m\" 200 -\n",
      "127.0.0.1 - - [18/Feb/2021 22:02:24] \"\u001b[37mPOST /qbank HTTP/1.1\u001b[0m\" 200 -\n",
      "127.0.0.1 - - [18/Feb/2021 22:02:29] \"\u001b[37mPOST /qbank HTTP/1.1\u001b[0m\" 200 -\n",
      "127.0.0.1 - - [18/Feb/2021 22:02:50] \"\u001b[37mPOST /qbank HTTP/1.1\u001b[0m\" 200 -\n"
     ]
    }
   ],
   "source": [
    "from flask import Flask, render_template, request, redirect, url_for\n",
    "from flask_mysqldb import MySQL\n",
    "app = Flask(__name__)\n",
    "\n",
    "\n",
    "app.config['MYSQL_HOST'] = 'localhost'\n",
    "app.config['MYSQL_USER'] = 'root'\n",
    "app.config['MYSQL_PASSWORD'] = ''\n",
    "app.config['MYSQL_DB'] = 'exam'\n",
    "\n",
    "mysql = MySQL(app)\n",
    "\n",
    "\n",
    "@app.route('/', methods=['GET', 'POST'])\n",
    "def index():\n",
    "    return 1\n",
    "\n",
    "@app.route('/qbank', methods=['GET', 'POST'])\n",
    "def qbank():\n",
    "    tid=2\n",
    "    cur = mysql.connection.cursor()\n",
    "    sql=\"SELECT cname FROM `course` NATURAL JOIN `teaches` NATURAL JOIN `teacher` where tid=\"+str(tid)\n",
    "    cur.execute(sql)\n",
    "    data = cur.fetchall()\n",
    "    cur.close()\n",
    "    qdata=\"\"\n",
    "    crs=\"\"\n",
    "    if request.method == \"POST\":\n",
    "        if request.form.get(\"course\"):\n",
    "            cur = mysql.connection.cursor()\n",
    "            details = request.form\n",
    "            i = details['course']\n",
    "            sql=\"SELECT cid FROM `course` WHERE cname='\"+i+\"'\"\n",
    "            cur.execute(sql)\n",
    "            j=cur.fetchall()\n",
    "            for val in j:\n",
    "                for k in val:\n",
    "                    crs=k\n",
    "                    sql=\"SELECT * FROM `qbank` WHERE tid=\"+str(tid)+\" and cid='\"+crs+\"'\"\n",
    "            cur.execute(sql)\n",
    "            qdata = cur.fetchall()\n",
    "            cur.close()\n",
    "        elif request.form.get(\"add_que\"):\n",
    "            details = request.form\n",
    "            tid = tid\n",
    "            cid = crs\n",
    "            marks = details['marks']\n",
    "            q = details['q']\n",
    "            op1 = details['op1']\n",
    "            op2 = details['op2']\n",
    "            op3 = details['op3']\n",
    "            op4 = details['op4']\n",
    "            ans = details['ans']\n",
    "            cur = mysql.connection.cursor()\n",
    "            cur.execute(\"SELECT max(`qbid`) FROM `qbank` WHERE tid=\"+str(tid)+\" and cid='\"+crs+\"'\")\n",
    "            print(crs)\n",
    "            #cur.execute(\"INSERT INTO `qbank`(`qbid`, `cid`, `tid`, `marks`, `que`, `op1`, `op2`, `op3`, `op4`, `ans`, `ans_val`) VALUES (%s, %s,%s,%s)\", (i,name,sem,br))\n",
    "            #mysql.connection.commit()\n",
    "            \n",
    "            cur.close()\n",
    "    return render_template('qbank.html',courses=data,ques=qdata)\n",
    "\n",
    "\n",
    "\n",
    "if __name__ == '__main__':\n",
    "    app.run()"
   ]
  },
  {
   "cell_type": "code",
   "execution_count": null,
   "metadata": {},
   "outputs": [],
   "source": [
    " sql=\"SELECT * FROM `qbank` WHERE tid=\"+str(tid)+\" and cid='\"+cur+\"'\"\n",
    "        cur.execute(sql)\n",
    "        qdata = cur.fetchall()\n",
    "        cur.close()"
   ]
  }
 ],
 "metadata": {
  "kernelspec": {
   "display_name": "Python 3",
   "language": "python",
   "name": "python3"
  },
  "language_info": {
   "codemirror_mode": {
    "name": "ipython",
    "version": 3
   },
   "file_extension": ".py",
   "mimetype": "text/x-python",
   "name": "python",
   "nbconvert_exporter": "python",
   "pygments_lexer": "ipython3",
   "version": "3.7.3"
  }
 },
 "nbformat": 4,
 "nbformat_minor": 2
}
