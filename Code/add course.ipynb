{
 "cells": [
  {
   "cell_type": "code",
   "execution_count": null,
   "metadata": {},
   "outputs": [
    {
     "name": "stdout",
     "output_type": "stream",
     "text": [
      " * Serving Flask app \"__main__\" (lazy loading)\n",
      " * Environment: production\n",
      "   WARNING: Do not use the development server in a production environment.\n",
      "   Use a production WSGI server instead.\n",
      " * Debug mode: off\n"
     ]
    },
    {
     "name": "stderr",
     "output_type": "stream",
     "text": [
      " * Running on http://127.0.0.1:5000/ (Press CTRL+C to quit)\n",
      "127.0.0.1 - - [18/Feb/2021 15:28:39] \"\u001b[37mGET / HTTP/1.1\u001b[0m\" 200 -\n",
      "127.0.0.1 - - [18/Feb/2021 15:28:40] \"\u001b[37mGET /new HTTP/1.1\u001b[0m\" 200 -\n",
      "127.0.0.1 - - [18/Feb/2021 15:28:41] \"\u001b[37mGET / HTTP/1.1\u001b[0m\" 200 -\n"
     ]
    }
   ],
   "source": [
    "from flask import Flask, render_template, request, redirect, url_for\n",
    "from flask_mysqldb import MySQL\n",
    "app = Flask(__name__)\n",
    "\n",
    "\n",
    "app.config['MYSQL_HOST'] = 'localhost'\n",
    "app.config['MYSQL_USER'] = 'root'\n",
    "app.config['MYSQL_PASSWORD'] = ''\n",
    "app.config['MYSQL_DB'] = 'exam'\n",
    "\n",
    "mysql = MySQL(app)\n",
    "\n",
    "\n",
    "@app.route('/', methods=['GET', 'POST'])\n",
    "def index():\n",
    "    if request.method == \"POST\":\n",
    "        details = request.form\n",
    "        i = details['id']\n",
    "        name = details['name']\n",
    "        br = details['br']\n",
    "        sem = details['sem']\n",
    "        cur = mysql.connection.cursor()\n",
    "        cur.execute(\"INSERT INTO `course`(`id`, `name`, `sem`, `branch`) VALUES (%s, %s,%s,%s)\", (i,name,sem,br))\n",
    "        mysql.connection.commit()\n",
    "        cur.close()\n",
    "    return render_template('index.html')\n",
    "\n",
    "@app.route('/new', methods=['GET', 'POST'])    \n",
    "def new():\n",
    "    cur = mysql.connection.cursor()\n",
    "    cur.execute(\"SELECT * FROM course\")\n",
    "    data = cur.fetchall()\n",
    "    cur.close()\n",
    "    return render_template('new.html',courses=data)\n",
    "\n",
    "\n",
    "if __name__ == '__main__':\n",
    "    app.run()"
   ]
  },
  {
   "cell_type": "code",
   "execution_count": null,
   "metadata": {},
   "outputs": [],
   "source": []
  },
  {
   "cell_type": "code",
   "execution_count": null,
   "metadata": {},
   "outputs": [],
   "source": []
  }
 ],
 "metadata": {
  "kernelspec": {
   "display_name": "Python 3",
   "language": "python",
   "name": "python3"
  },
  "language_info": {
   "codemirror_mode": {
    "name": "ipython",
    "version": 3
   },
   "file_extension": ".py",
   "mimetype": "text/x-python",
   "name": "python",
   "nbconvert_exporter": "python",
   "pygments_lexer": "ipython3",
   "version": "3.7.3"
  }
 },
 "nbformat": 4,
 "nbformat_minor": 2
}
